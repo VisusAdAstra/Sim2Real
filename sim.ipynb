{
 "cells": [
  {
   "cell_type": "code",
   "execution_count": null,
   "metadata": {},
   "outputs": [],
   "source": [
    "! python demos.py --disp --task=place-red-in-green --mode=train --n=10\n",
    "! python demos.py --disp --task=place-red-in-green --mode=test --n=100\n",
    "! python train.py --task=place-red-in-green --agent=transporter --n_demos=10 --gpu_limit=4\n",
    "! python test.py --task=place-red-in-green --agent=transporter --n_demos=10 --n_steps=1000\n",
    "! python test.py --task=place-red-in-green --agent=transporter --n_demos=10 --n_steps=1000 --gpu_limit=4"
   ]
  }
 ],
 "metadata": {
  "language_info": {
   "name": "python"
  }
 },
 "nbformat": 4,
 "nbformat_minor": 2
}
